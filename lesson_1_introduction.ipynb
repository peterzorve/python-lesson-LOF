{
 "cells": [
  {
   "cell_type": "markdown",
   "metadata": {},
   "source": [
    "# Introduction to Python Programming"
   ]
  },
  {
   "cell_type": "code",
   "execution_count": 1,
   "metadata": {},
   "outputs": [
    {
     "name": "stdout",
     "output_type": "stream",
     "text": [
      "Introduction to Python\n"
     ]
    }
   ],
   "source": [
    "print('Introduction to Python')"
   ]
  },
  {
   "cell_type": "code",
   "execution_count": null,
   "metadata": {},
   "outputs": [],
   "source": [
    "\"\"\" Write a function that accepts a number and determines whether it is divisible by 2 or not \"\"\""
   ]
  },
  {
   "cell_type": "code",
   "execution_count": 6,
   "metadata": {},
   "outputs": [
    {
     "data": {
      "text/plain": [
       "' A function accepts a number an that prints a triangle '"
      ]
     },
     "execution_count": 6,
     "metadata": {},
     "output_type": "execute_result"
    }
   ],
   "source": [
    "\"\"\" A function accepts a number an that prints a triangle \"\"\"\n",
    "\n",
    "# def triangle(number):\n",
    "#      for i in range(number):\n",
    "#           if i == 1:\n",
    "#                print('#')\n",
    "#           elif i < number:\n",
    "#                print('#', ' ' * i, '#')\n",
    "#           else:\n",
    "#                print('#' * number)\n",
    "#      return \n",
    "\n",
    "# triangle(10)"
   ]
  },
  {
   "cell_type": "code",
   "execution_count": 13,
   "metadata": {},
   "outputs": [],
   "source": [
    "def encode(text):\n",
    "     first, second = '', ''\n",
    "     text = text.lower()\n",
    "     for i in range(len(text)):\n",
    "          if (i)%2 == 0:\n",
    "               first += text[i]\n",
    "          else:\n",
    "               second += text[i]\n",
    "     return first[::-1], second[::-1]\n",
    "\n",
    "def decode(first, second):\n",
    "     first, second, decoded = first[::-1], second[::-1]+'.', ''\n",
    "     for i in range(int(len(first + second)/2)):\n",
    "          decoded += first[i] + second[i]\n",
    "     return decoded.capitalize()"
   ]
  },
  {
   "cell_type": "code",
   "execution_count": 15,
   "metadata": {},
   "outputs": [
    {
     "name": "stdout",
     "output_type": "stream",
     "text": [
      "('eomswrteoo ecsaea w', 'neo ohrv ttre  vhe')\n"
     ]
    }
   ],
   "source": [
    "text = 'We have a secret to overthrow someone'\n",
    "\n",
    "# a, b = encode(text)\n",
    "print(encode(text))\n"
   ]
  },
  {
   "cell_type": "code",
   "execution_count": 16,
   "metadata": {},
   "outputs": [
    {
     "data": {
      "text/plain": [
       "'We have a secret to overthrow someone.'"
      ]
     },
     "execution_count": 16,
     "metadata": {},
     "output_type": "execute_result"
    }
   ],
   "source": [
    "decode('eomswrteoo ecsaea w', 'neo ohrv ttre  vhe') "
   ]
  },
  {
   "cell_type": "code",
   "execution_count": null,
   "metadata": {},
   "outputs": [],
   "source": []
  },
  {
   "cell_type": "code",
   "execution_count": 10,
   "metadata": {},
   "outputs": [
    {
     "data": {
      "text/plain": [
       "('to xnaagte nh tgigf aptre  vhi', 'hnmte nh xnaago no onl ecsaea ')"
      ]
     },
     "execution_count": 10,
     "metadata": {},
     "output_type": "execute_result"
    }
   ],
   "source": [
    "text = 'I have a secret plan of going to ghana next ghana next month'\n",
    "encode(text)"
   ]
  },
  {
   "cell_type": "code",
   "execution_count": 11,
   "metadata": {},
   "outputs": [
    {
     "data": {
      "text/plain": [
       "'I have a secret plan of going to ghana next ghana next month .'"
      ]
     },
     "execution_count": 11,
     "metadata": {},
     "output_type": "execute_result"
    }
   ],
   "source": [
    "decode(' to xnaagte nh tgigf aptre  vhi', 'hnmte nh xnaago no onl ecsaea ')"
   ]
  },
  {
   "cell_type": "code",
   "execution_count": 11,
   "metadata": {},
   "outputs": [
    {
     "name": "stdout",
     "output_type": "stream",
     "text": [
      "       *   *   *   *   *   *   *   *   *   *   \n",
      "       *                                   *\n",
      "       *                                   *\n",
      "       *                                   *\n",
      "       *                                   *\n",
      "10 cm  *                                   * \n",
      "       *                                   *\n",
      "       *                                   *\n",
      "       *                                   *\n",
      "       *                                   *\n",
      "       *   *   *   *   *   *   *   *   *   *   \n"
     ]
    }
   ],
   "source": [
    "def square(number, unit='cm'):\n",
    "\n",
    "     lenth_of_unit = len(unit)\n",
    "\n",
    "     print(f\"{'   ' * lenth_of_unit} {'*   ' * number}\")\n",
    "\n",
    "     for i in range(int((number/2)-1)): \n",
    "          print(f\"{'   ' * lenth_of_unit} * {'    ' * (number-2)}  *\")\n",
    "\n",
    "     print( number, unit, f\"{' *  ' } {'    ' * (number-2)}* \")\n",
    "\n",
    "     for i in range(int(number/2-1)): \n",
    "          print(f\"{'   ' * lenth_of_unit} * {'    ' * (number-2)}  *\")\n",
    "     \n",
    "     print(f\"{'   ' * lenth_of_unit} {'*   '   * number}\")\n",
    "\n",
    "     return \n",
    "\n",
    "square(10, 'cm')"
   ]
  },
  {
   "cell_type": "code",
   "execution_count": null,
   "metadata": {},
   "outputs": [],
   "source": [
    "# def reverse(characters):\n",
    "#      characters = characters[::-1]\n",
    "#      return characters\n",
    "\n",
    "\n",
    "# def reverse(characters):\n",
    "#      length = len(characters)  # =  10 \n",
    "#      reversed = ''\n",
    "#      for i in range(length-1, -1, -1):  #  = 9, 8, 7, 6, 5, 4, 3, 2     # 9, 7, 5, 3\n",
    "#           reversed = reversed + characters[i]\n",
    "#      return reversed\n",
    "\n",
    "\n",
    "# def reverse(characters):\n",
    "#      reversed = ''\n",
    "#      for i in range(10):         # (0, 9, 2)      0, 2, 4, 6, 8,                1000, 6, 7, 8, 9\n",
    "#           reversed = reversed + characters[len(characters)-1-i]\n",
    "#      return reversed\n",
    "\n",
    "\n",
    "# def reverse(characters):\n",
    "#      start = 0 \n",
    "#      reversed = ''\n",
    "#      while start < len(characters):\n",
    "#           reversed = reversed + characters[len(characters)-1-start] \n",
    "#           start = start + 1 \n",
    "#      return reversed \n",
    "\n",
    "\n",
    "# def reverse(characters):\n",
    "#      start = len(characters) - 1\n",
    "#      reversed = ''\n",
    "#      while start > 0: \n",
    "#            reversed = reversed + reversed[start] \n",
    "#            start = start - 1  \n",
    "#      return reversed \n",
    "\n",
    "\n",
    "\n",
    "# reverse('characters')"
   ]
  },
  {
   "cell_type": "code",
   "execution_count": 1,
   "metadata": {},
   "outputs": [
    {
     "name": "stdout",
     "output_type": "stream",
     "text": [
      "{'emails': ['peter.zorve25@gmail.com', 'lara.funke125@gmail.com', 'faith.edem@yahoo.com', 'kenny.edem12@yahoo.com', 'kojo.sammy235@gmail.com', 'ama.lara16@yahoo.com', 'adeyele.kumi999999@yahoo.com', 'bismark.asamoah@yahoo.com', 'john.mireku@uef.fi', 'youth.agam@uef.fi', 'entry.james@uef.fi', 'kofi.antwi@uef.fi'], 'id_number': ['27021990-THE', '28021990-THE', '28121990-THE', '28021990-THE', '28121990-THE', '28061990-THE', '27021980-THE', '28121990-TUE', '28021890-TAE', '28021990-THE', '28021990-THE', '28021990-THE']}\n"
     ]
    },
    {
     "data": {
      "text/plain": [
       "'\\nPeter Zorve  - 27.02.1990 \\nLara Funke   - 28.02.1990\\n\\n'"
      ]
     },
     "execution_count": 1,
     "metadata": {},
     "output_type": "execute_result"
    }
   ],
   "source": [
    "my_dictionary = {   'emails'    :  ['peter.zorve25@gmail.com', 'lara.funke125@gmail.com', 'faith.edem@yahoo.com', 'kenny.edem12@yahoo.com', 'kojo.sammy235@gmail.com', 'ama.lara16@yahoo.com', 'adeyele.kumi999999@yahoo.com', 'bismark.asamoah@yahoo.com', 'john.mireku@uef.fi', 'youth.agam@uef.fi', 'entry.james@uef.fi', 'kofi.antwi@uef.fi'], \n",
    "                    'id_number' :  ['27021990-THE', '28021990-THE', '28121990-THE', '28021990-THE', '28121990-THE', '28061990-THE', '27021980-THE', '28121990-TUE', '28021890-TAE', '28021990-THE', '28021990-THE', '28021990-THE' ]}\n",
    "\n",
    "\n",
    "print(my_dictionary)\n",
    "\n",
    "\"\"\"\n",
    "Peter Zorve  - 27.02.1990 \n",
    "Lara Funke   - 28.02.1990\n",
    "\n",
    "\"\"\""
   ]
  },
  {
   "cell_type": "code",
   "execution_count": 2,
   "metadata": {},
   "outputs": [
    {
     "name": "stdout",
     "output_type": "stream",
     "text": [
      "Peter Zorve       -  27.02.1990\n",
      "Lara Funke        -  28.02.1990\n",
      "Faith Edem        -  28.12.1990\n",
      "Kenny Edem        -  28.02.1990\n",
      "Kojo Sammy        -  28.12.1990\n",
      "Ama Lara          -  28.06.1990\n",
      "Adeyele Kumi      -  27.02.1980\n",
      "Bismark Asamoah   -  28.12.1990\n",
      "John Mireku       -  28.02.1890\n",
      "Youth Agam        -  28.02.1990\n",
      "Entry James       -  28.02.1990\n",
      "Kofi Antwi        -  28.02.1990\n"
     ]
    }
   ],
   "source": [
    "names_list = []\n",
    "birth_day = []\n",
    "all_inform = []\n",
    "for i in my_dictionary['emails']:\n",
    "     names = ''\n",
    "     full_name = ''\n",
    "     i = i.split('@')[0]\n",
    "\n",
    "     for j in i: \n",
    "          if not j.isdigit():\n",
    "               names = names + j \n",
    "     names = names.split('.')\n",
    "     first_name = names[0].capitalize()\n",
    "     second_name = names[1].capitalize()\n",
    "\n",
    "     full_name = first_name + ' ' + second_name \n",
    "\n",
    "     names_list.append(full_name)\n",
    "\n",
    "\n",
    "for i in my_dictionary['id_number']:\n",
    "     i = i.split('-')[0]\n",
    "     i = i[:2] + '.' + i[2:4] + '.' + i[4:]\n",
    "     birth_day.append(i)\n",
    "\n",
    "\n",
    "for i in range(len(names_list)):\n",
    "     person_info = f\"{names_list[i]:15}   -  {birth_day[i]}\"\n",
    "     all_inform.append(person_info)\n",
    "     print(person_info)\n",
    "\n",
    "# print(all_inform)"
   ]
  },
  {
   "cell_type": "code",
   "execution_count": null,
   "metadata": {},
   "outputs": [],
   "source": []
  },
  {
   "cell_type": "code",
   "execution_count": null,
   "metadata": {},
   "outputs": [],
   "source": []
  },
  {
   "cell_type": "code",
   "execution_count": null,
   "metadata": {},
   "outputs": [],
   "source": []
  },
  {
   "cell_type": "code",
   "execution_count": null,
   "metadata": {},
   "outputs": [],
   "source": [
    "number1 = 10\n",
    "number2 = 20\n",
    "\n",
    "print('first number =', number1, 'second number =', number2)\n",
    "print('first number = ' + str(number1) + ' second number = ' + str(number2))\n",
    "print(f'first number = {number1} second number = {number2}')"
   ]
  },
  {
   "cell_type": "code",
   "execution_count": null,
   "metadata": {},
   "outputs": [],
   "source": [
    "my_text = 'I aaaaaaaaaaaaaaaaaaaaaaaaaaaaaaaaaaaaaaaaaaaaaaaaaaaaaaaaaaaaaaaaaa m going Ghana next wednesday. Where are you going next week aaaaaaaaaaaaaaaaaaaaa.'\n",
    "my_text = my_text.lower().replace(' ', '').replace('.', '')\n",
    "\n",
    "my_list = []\n",
    "\n",
    "for i in my_text:\n",
    "     my_list.append(i)\n",
    "\n",
    "my_set = sorted(set(my_list))\n",
    "\n",
    "character, character_count = [], []\n",
    "\n",
    "for i in my_set:\n",
    "     count = my_text.count(f'{i}') \n",
    "     character.append(i), character_count.append(count)\n",
    "\n",
    "for i in range(len(character)):\n",
    "     print(f'{character[i]} : {character_count[i]}')\n"
   ]
  },
  {
   "cell_type": "code",
   "execution_count": null,
   "metadata": {},
   "outputs": [],
   "source": [
    "my_dict = dict()\n",
    "# print(type(my_dict))\n",
    "my_text = 'I am going Ghana next wednesday. Where are you going next week aaaaaaaaaaaaaaaaaaaaa.'\n",
    "my_text = my_text.lower().replace(' ', '').replace('.', '')\n",
    "\n",
    "for i in sorted(my_text):\n",
    "     if i not in my_dict:\n",
    "          my_dict[i] = 1\n",
    "     else: \n",
    "          my_dict[i] += 1\n",
    "          \n",
    "print(my_dict)\n",
    "\n"
   ]
  },
  {
   "cell_type": "code",
   "execution_count": 1,
   "metadata": {},
   "outputs": [
    {
     "name": "stdout",
     "output_type": "stream",
     "text": [
      "{'an': 1, 'atom': 1, 'is': 2, 'the': 1, 'smallest': 1, 'unit': 1, 'of': 2, 'ordinary': 1, 'matter': 1, 'that': 1, 'forms': 1, 'a': 1, 'chemical': 1, 'element[1]': 1, 'every': 1, 'solid': 1, 'liquid': 1, 'gas': 1, 'and': 1, 'plasma': 1, 'composed': 1, 'neutral': 1, 'or': 1, 'ionized': 1, 'atoms': 1}\n"
     ]
    }
   ],
   "source": [
    "document = \"\"\"\n",
    "Blessed assurance, Jesus is mine!       Oh, what a foretaste of glory divine!\n",
    "Heir of salvation, purchase of God      Born of his Spirit, washed in His blood\n",
    "\n",
    "This is my story, this is my song       Praising my Savior all the day long\n",
    "This is my story, this is my song       Praising my Savior all the day long\n",
    "\n",
    "Perfect submission, perfect delight     Visions of rapture now burst on my sight\n",
    "Angels descending bring from above      Echoes of mercy, whispers of love\n",
    "\n",
    "Blessed assurance, Jesus is mine!       Oh, what a foretaste of glory divine!\n",
    "Heir of salvation, purchase of God      Born of his Spirit, washed in His blood\n",
    "\n",
    "This is my story, this is my song       Praising my Savior all the day long\n",
    "This is my story, this is my song       Praising my Savior all the day long\n",
    "\n",
    "Perfect submission, perfect delight     Visions of rapture now burst on my sight\n",
    "Angels descending bring from above      Echoes of mercy, whispers of love\n",
    "\"\"\"\n",
    "\n",
    "document = 'An atom is the smallest unit of ordinary matter that forms a chemical element.[1] Every solid, liquid, gas, and plasma is composed of neutral or ionized atoms'\n",
    "\n",
    "\n",
    "def char_count(document):\n",
    "     document = document.lower().replace(',', '').replace('.', '') \n",
    "     document_list = document.split()\n",
    "\n",
    "     document_dic = {}\n",
    "\n",
    "     for i in document_list:\n",
    "          if i not in document_dic:\n",
    "               document_dic[i] = 1 \n",
    "          else:\n",
    "               document_dic[i] += 1\n",
    "     \n",
    "     return document_dic\n",
    "\n",
    "print(char_count(document))\n"
   ]
  },
  {
   "cell_type": "code",
   "execution_count": 8,
   "metadata": {},
   "outputs": [
    {
     "name": "stdout",
     "output_type": "stream",
     "text": [
      "0\n"
     ]
    }
   ],
   "source": [
    "def num(sentence,word):\n",
    "    sent=sentence.split(' ')\n",
    "    count= 0\n",
    "    for i in range(len(sent)):\n",
    "      if sent[i]== word:\n",
    "          count = count +1\n",
    "    print(count)\n",
    "        \n",
    "\n",
    "\n",
    "\n",
    "    return\n",
    "\n",
    "sentence= 'An atom is the smallest unit of ordinary matter that forms a chemical element.[1] Every solid, liquid, gas, and plasma is composed of neutral or ionized atoms'\n",
    "word='element'\n",
    "num(sentence,word)"
   ]
  },
  {
   "cell_type": "code",
   "execution_count": null,
   "metadata": {},
   "outputs": [],
   "source": []
  },
  {
   "cell_type": "code",
   "execution_count": null,
   "metadata": {},
   "outputs": [],
   "source": [
    "'an': 1\n",
    "'atom': 1\n",
    "'is': 2\n",
    "'the': 1\n",
    "'smallest': 1\n",
    "'unit': 1\n",
    "'of': 2\n",
    "'ordinary': 1\n",
    "'matter': 1\n",
    "'that': 1\n",
    "'forms': 1\n",
    "'a': 1\n",
    "'chemical': 1\n",
    "'element': 1\n",
    "'every': 1\n",
    "'solid': 1\n",
    "'liquid': 1\n",
    "'gas': 1\n",
    "'and': 1\n",
    "'plasma': 1\n",
    "'composed': 1\n",
    "'neutral': 1\n",
    "'or': 1\n",
    "'ionized': 1\n",
    "'atoms': 1"
   ]
  },
  {
   "cell_type": "code",
   "execution_count": null,
   "metadata": {},
   "outputs": [],
   "source": [
    "my_documents = 'i am a very very humble and nice guy'\n",
    "\n",
    "my_documents_squeeze = my_documents.replace(' ','')\n",
    "def count_characters(my_documents_squeeze):\n",
    "     for i in my_documents_squeeze:\n",
    "          print(i, '=', my_documents_squeeze.count(i))\n",
    "     return\n",
    "count_characters(my_documents_squeeze) "
   ]
  },
  {
   "cell_type": "code",
   "execution_count": 24,
   "metadata": {},
   "outputs": [
    {
     "data": {
      "text/plain": [
       "'\\nWrite a function that extracts only the numbers and multiplies with by two \\nFor example \\n\\n800  * 2 = 1600\\n1200 * 2 = 2400\\n550  * 2 = 1100\\n\\n'"
      ]
     },
     "execution_count": 24,
     "metadata": {},
     "output_type": "execute_result"
    }
   ],
   "source": [
    "lara = 'badest girl who spend $800.000 euros on shoes every weekend plus £1,200.200 dollars on plane ticket to Dubai and probaly 550.010euros on sushi every two weeks'\n",
    "\n",
    "\"\"\"\n",
    "Write a function that extracts only the numbers and multiplies with by two \n",
    "For example \n",
    "\n",
    "800  * 2 = 1600\n",
    "1200 * 2 = 2400\n",
    "550  * 2 = 1100\n",
    "\n",
    "\"\"\"\n",
    "\n"
   ]
  },
  {
   "cell_type": "code",
   "execution_count": 26,
   "metadata": {},
   "outputs": [
    {
     "name": "stdout",
     "output_type": "stream",
     "text": [
      "   800.0  *  2 = 1600.000\n",
      "   150.0  *  2 = 300.000\n",
      "  1200.2  *  2 = 2400.400\n",
      " 10000.0  *  2 = 20000.000\n",
      "  550.01  *  2 = 1100.020\n"
     ]
    }
   ],
   "source": [
    "lara = 'badest girl who spend $800.000 euros on shoes150 every weekend plus £1,200.200 dol10000lars on plane ticket to Dubai and probaly 550.010euros on sushi every two weeks'\n",
    "\n",
    "lara = lara.split()\n",
    "# print(lara[1])\n",
    "\n",
    "number_list = []\n",
    "\n",
    "\n",
    "for i in lara:\n",
    "    number = ''\n",
    "    for j in i: \n",
    "        if j.isdigit() or j == '.':\n",
    "            number = number + j \n",
    "    # print(number)\n",
    "    number_list.append(number)\n",
    "\n",
    "\n",
    "# print(number_list)\n",
    "\n",
    "only_number = []\n",
    "\n",
    "for m in number_list:\n",
    "    if len(m) >= 1:\n",
    "        m = float(m)\n",
    "        only_number.append(m)\n",
    "        print(f'{m:8}  *  {2} = {m*2:.3f}')\n",
    "\n",
    "\n",
    "\n",
    "\n",
    "# print(only_number)"
   ]
  },
  {
   "cell_type": "code",
   "execution_count": null,
   "metadata": {},
   "outputs": [],
   "source": []
  },
  {
   "cell_type": "code",
   "execution_count": null,
   "metadata": {},
   "outputs": [],
   "source": []
  }
 ],
 "metadata": {
  "kernelspec": {
   "display_name": "Python 3.8.13 ('deeplearning')",
   "language": "python",
   "name": "python3"
  },
  "language_info": {
   "codemirror_mode": {
    "name": "ipython",
    "version": 3
   },
   "file_extension": ".py",
   "mimetype": "text/x-python",
   "name": "python",
   "nbconvert_exporter": "python",
   "pygments_lexer": "ipython3",
   "version": "3.8.13"
  },
  "orig_nbformat": 4,
  "vscode": {
   "interpreter": {
    "hash": "6a29e2c6032db948d2ac4841a3008c24c124c9d60225cd5bb2e940e04b511554"
   }
  }
 },
 "nbformat": 4,
 "nbformat_minor": 2
}
