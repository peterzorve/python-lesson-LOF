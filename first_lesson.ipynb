{
 "cells": [
  {
   "cell_type": "code",
   "execution_count": 1,
   "metadata": {},
   "outputs": [
    {
     "name": "stdout",
     "output_type": "stream",
     "text": [
      "Kenneth Ozio\n"
     ]
    },
    {
     "data": {
      "text/plain": [
       "'\\nPython Data types\\n    1. integer\\n    2. string \\n    3. list \\n    4. dictionary \\n    5. set \\n    6. float \\n    7. tuple \\n    '"
      ]
     },
     "execution_count": 1,
     "metadata": {},
     "output_type": "execute_result"
    }
   ],
   "source": [
    "print('Kenneth Ozio')\n",
    "'''\n",
    "Python Data types\n",
    "    1. integer\n",
    "    2. string \n",
    "    3. list \n",
    "    4. dictionary \n",
    "    5. set \n",
    "    6. float \n",
    "    7. tuple \n",
    "    '''"
   ]
  },
  {
   "cell_type": "markdown",
   "metadata": {},
   "source": []
  },
  {
   "cell_type": "markdown",
   "metadata": {},
   "source": []
  },
  {
   "cell_type": "code",
   "execution_count": 27,
   "metadata": {},
   "outputs": [
    {
     "name": "stdout",
     "output_type": "stream",
     "text": [
      "['False', 'None', 'True', '__peg_parser__', 'and', 'as', 'assert', 'async', 'await', 'break', 'class', 'continue', 'def', 'del', 'elif', 'else', 'except', 'finally', 'for', 'from', 'global', 'if', 'import', 'in', 'is', 'lambda', 'nonlocal', 'not', 'or', 'pass', 'raise', 'return', 'try', 'while', 'with', 'yield']\n"
     ]
    }
   ],
   "source": [
    "import keyword \n",
    "s = keyword.kwlist\n",
    "print(s)"
   ]
  },
  {
   "cell_type": "code",
   "execution_count": 2,
   "metadata": {},
   "outputs": [
    {
     "name": "stdout",
     "output_type": "stream",
     "text": [
      "12\n",
      "<class 'int'>\n",
      "<class 'int'>\n"
     ]
    }
   ],
   "source": [
    "# Interger \n",
    "\n",
    "ken = 12\n",
    "print(ken)\n",
    "print(type(ken))\n",
    "\n",
    "\n",
    "peter = -100\n",
    "print(type(peter))"
   ]
  },
  {
   "cell_type": "code",
   "execution_count": 3,
   "metadata": {},
   "outputs": [
    {
     "name": "stdout",
     "output_type": "stream",
     "text": [
      "<class 'float'>\n"
     ]
    }
   ],
   "source": [
    "ken = 12.0 \n",
    "print(type(ken))"
   ]
  },
  {
   "cell_type": "code",
   "execution_count": 4,
   "metadata": {},
   "outputs": [
    {
     "name": "stdout",
     "output_type": "stream",
     "text": [
      "<class 'float'>\n"
     ]
    }
   ],
   "source": [
    "# How many people are in the class \n",
    "\n",
    "number_of_people = 7 \n",
    "\n",
    "# How much is your salary \n",
    "salary = 12.5\n",
    "print(type(salary)) \n",
    "\n",
    "data = salary "
   ]
  },
  {
   "cell_type": "code",
   "execution_count": 5,
   "metadata": {},
   "outputs": [
    {
     "name": "stdout",
     "output_type": "stream",
     "text": [
      "<class 'str'>\n"
     ]
    }
   ],
   "source": [
    "# String \n",
    "\n",
    "ken = 'My name is peter'\n",
    "pet = \"My name is Ken\"\n",
    "ama = 'YOU'\n",
    "\n",
    "print(type(ama))"
   ]
  },
  {
   "cell_type": "code",
   "execution_count": 6,
   "metadata": {},
   "outputs": [
    {
     "name": "stdout",
     "output_type": "stream",
     "text": [
      "YOU\n",
      "My name is Ken\n"
     ]
    }
   ],
   "source": [
    "print(ama)\n",
    "print(pet)"
   ]
  },
  {
   "cell_type": "code",
   "execution_count": 11,
   "metadata": {},
   "outputs": [
    {
     "ename": "IndentationError",
     "evalue": "unexpected indent (1852478294.py, line 2)",
     "output_type": "error",
     "traceback": [
      "\u001b[1;36m  Input \u001b[1;32mIn [11]\u001b[1;36m\u001b[0m\n\u001b[1;33m    print(type(number))\u001b[0m\n\u001b[1;37m    ^\u001b[0m\n\u001b[1;31mIndentationError\u001b[0m\u001b[1;31m:\u001b[0m unexpected indent\n"
     ]
    }
   ],
   "source": [
    "#numb = '12225'\n",
    " print(type(number))\n"
   ]
  },
  {
   "cell_type": "code",
   "execution_count": 8,
   "metadata": {},
   "outputs": [
    {
     "name": "stdout",
     "output_type": "stream",
     "text": [
      "[1, 10, 50, 'string', 'Peter Zorve', 'the boy ia old', '12225', 'My name is Ken', 120, 15, 10, 'Keneth Ozio']\n"
     ]
    }
   ],
   "source": [
    "#List: square brackets, can be modified/redefined, have indices from 0,1,2,...\n",
    "ken_list = [1, 10, 50, 'string', 'a', 'the boy ia old', numb, pet, 120, 15, 10]\n",
    "\n",
    "ken_list[4] = 'Peter Zorve'\n",
    "ken_list.append('Keneth Ozio')\n",
    "\n",
    "print(ken_list)"
   ]
  },
  {
   "cell_type": "code",
   "execution_count": 9,
   "metadata": {},
   "outputs": [
    {
     "ename": "AttributeError",
     "evalue": "'tuple' object has no attribute 'append'",
     "output_type": "error",
     "traceback": [
      "\u001b[1;31m---------------------------------------------------------------------------\u001b[0m",
      "\u001b[1;31mAttributeError\u001b[0m                            Traceback (most recent call last)",
      "\u001b[1;32mc:\\Users\\kenoz\\Desktop\\pyth\\first_lesson.ipynb Cell 12'\u001b[0m in \u001b[0;36m<cell line: 4>\u001b[1;34m()\u001b[0m\n\u001b[0;32m      <a href='vscode-notebook-cell:/c%3A/Users/kenoz/Desktop/pyth/first_lesson.ipynb#ch0000008?line=0'>1</a>\u001b[0m ken_tuple \u001b[39m=\u001b[39m (\u001b[39m1\u001b[39m, \u001b[39m10\u001b[39m, \u001b[39m50\u001b[39m, \u001b[39m'\u001b[39m\u001b[39mstring\u001b[39m\u001b[39m'\u001b[39m, \u001b[39m'\u001b[39m\u001b[39ma\u001b[39m\u001b[39m'\u001b[39m, \u001b[39m'\u001b[39m\u001b[39mthe boy ia old\u001b[39m\u001b[39m'\u001b[39m, numb, pet, \u001b[39m120\u001b[39m, \u001b[39m15\u001b[39m, \u001b[39m10\u001b[39m)\n\u001b[0;32m      <a href='vscode-notebook-cell:/c%3A/Users/kenoz/Desktop/pyth/first_lesson.ipynb#ch0000008?line=2'>3</a>\u001b[0m \u001b[39m# ken_tuple[4] = 'Peter Zorve'\u001b[39;00m\n\u001b[1;32m----> <a href='vscode-notebook-cell:/c%3A/Users/kenoz/Desktop/pyth/first_lesson.ipynb#ch0000008?line=3'>4</a>\u001b[0m ken_tuple\u001b[39m.\u001b[39;49mappend(\u001b[39m'\u001b[39m\u001b[39mKeneth Ozio\u001b[39m\u001b[39m'\u001b[39m)\n\u001b[0;32m      <a href='vscode-notebook-cell:/c%3A/Users/kenoz/Desktop/pyth/first_lesson.ipynb#ch0000008?line=5'>6</a>\u001b[0m \u001b[39mprint\u001b[39m(ken_tuple)\n",
      "\u001b[1;31mAttributeError\u001b[0m: 'tuple' object has no attribute 'append'"
     ]
    }
   ],
   "source": [
    "#Tuple: Use brackets, CANNOT be modified/redefined\n",
    "ken_tuple = (1, 10, 50, 'string', 'a', 'the boy ia old', numb, pet, 120, 15, 10)\n",
    "\n",
    "# ken_tuple[4] = 'Peter Zorve'\n",
    "ken_tuple.append('Keneth Ozio')\n",
    "\n",
    "print(ken_tuple)"
   ]
  },
  {
   "cell_type": "code",
   "execution_count": 13,
   "metadata": {},
   "outputs": [
    {
     "data": {
      "text/plain": [
       "31"
      ]
     },
     "execution_count": 13,
     "metadata": {},
     "output_type": "execute_result"
    }
   ],
   "source": [
    "# Dictionary: Curly brackets, always in pairs (key with value),items have defined, changeable orders/positions/indices\n",
    "\n",
    "peter = 'My name is Peter Zorve' \n",
    "\n",
    "ken_dict = {'age' : 30, 'degress' : ['BSc', 'MSc', 'Ph.D.', 12.0], 'name' : 'Peter Ozio', 'age':31 }\n",
    "\n",
    "ken_dict['name'] \n",
    "ken_dict['degress']\n",
    "ken_dict['age']"
   ]
  },
  {
   "cell_type": "code",
   "execution_count": 16,
   "metadata": {},
   "outputs": [
    {
     "name": "stdout",
     "output_type": "stream",
     "text": [
      "<class 'dict'>\n"
     ]
    }
   ],
   "source": [
    "Dict= {''}\n",
    "\n",
    "print(type(Dict))"
   ]
  },
  {
   "cell_type": "code",
   "execution_count": 17,
   "metadata": {},
   "outputs": [
    {
     "name": "stdout",
     "output_type": "stream",
     "text": [
      "['False', 'None', 'True', '__peg_parser__', 'and', 'as', 'assert', 'async', 'await', 'break', 'class', 'continue', 'def', 'del', 'elif', 'else', 'except', 'finally', 'for', 'from', 'global', 'if', 'import', 'in', 'is', 'lambda', 'nonlocal', 'not', 'or', 'pass', 'raise', 'return', 'try', 'while', 'with', 'yield']\n"
     ]
    }
   ],
   "source": [
    "# Keyword \n",
    "import keyword \n",
    "\n",
    "key_words = keyword.kwlist\n",
    "print(key_words)\n"
   ]
  },
  {
   "cell_type": "code",
   "execution_count": 20,
   "metadata": {},
   "outputs": [
    {
     "name": "stdout",
     "output_type": "stream",
     "text": [
      "10 90 40\n"
     ]
    }
   ],
   "source": [
    "peter = 10\n",
    "p = 90\n",
    "len = 40\n",
    "\n",
    "print(peter, p, len)"
   ]
  },
  {
   "cell_type": "code",
   "execution_count": 22,
   "metadata": {},
   "outputs": [
    {
     "name": "stdout",
     "output_type": "stream",
     "text": [
      "False\n",
      "True\n",
      "True\n"
     ]
    }
   ],
   "source": [
    "# Boolean \n",
    "# True or False \n",
    "\n",
    "print(4 > 5)\n",
    "print(5 > 2)\n",
    "print(4 == 4)\n"
   ]
  },
  {
   "cell_type": "code",
   "execution_count": null,
   "metadata": {},
   "outputs": [],
   "source": [
    ">   \n",
    "< \n",
    ">=\n",
    "<= \n",
    "==\n",
    "+ \n",
    "- \n",
    "* \n",
    "/ \n",
    "// \n",
    "% \n",
    "**  exponeential "
   ]
  },
  {
   "cell_type": "code",
   "execution_count": 26,
   "metadata": {},
   "outputs": [
    {
     "name": "stdout",
     "output_type": "stream",
     "text": [
      "25\n",
      "5\n",
      "2\n"
     ]
    }
   ],
   "source": [
    "print( 5**2 )\n",
    "print( 25 % 10)     # remainder \n",
    "print( 25 // 10)    # Base "
   ]
  },
  {
   "cell_type": "code",
   "execution_count": 28,
   "metadata": {},
   "outputs": [
    {
     "name": "stdout",
     "output_type": "stream",
     "text": [
      "30vow\n"
     ]
    }
   ],
   "source": [
    "# STRINGS \n",
    "\n",
    "tx = '30'\n",
    "vx = 'vow'\n",
    "t = tx + vx\n",
    "print(t)\n"
   ]
  },
  {
   "cell_type": "code",
   "execution_count": 29,
   "metadata": {},
   "outputs": [
    {
     "name": "stdout",
     "output_type": "stream",
     "text": [
      "301\n"
     ]
    }
   ],
   "source": [
    "tx = '30'\n",
    "vx = '1'\n",
    "t = tx +vx\n",
    "print(t)"
   ]
  },
  {
   "cell_type": "code",
   "execution_count": 37,
   "metadata": {},
   "outputs": [
    {
     "name": "stdout",
     "output_type": "stream",
     "text": [
      "<class 'str'>\n"
     ]
    }
   ],
   "source": [
    "name = 'mY nAme IS Ken OZio'\n",
    "print(type(name))"
   ]
  },
  {
   "cell_type": "code",
   "execution_count": 31,
   "metadata": {},
   "outputs": [
    {
     "name": "stdout",
     "output_type": "stream",
     "text": [
      "['__add__', '__class__', '__contains__', '__delattr__', '__dir__', '__doc__', '__eq__', '__format__', '__ge__', '__getattribute__', '__getitem__', '__getnewargs__', '__gt__', '__hash__', '__init__', '__init_subclass__', '__iter__', '__le__', '__len__', '__lt__', '__mod__', '__mul__', '__ne__', '__new__', '__reduce__', '__reduce_ex__', '__repr__', '__rmod__', '__rmul__', '__setattr__', '__sizeof__', '__str__', '__subclasshook__', 'capitalize', 'casefold', 'center', 'count', 'encode', 'endswith', 'expandtabs', 'find', 'format', 'format_map', 'index', 'isalnum', 'isalpha', 'isascii', 'isdecimal', 'isdigit', 'isidentifier', 'islower', 'isnumeric', 'isprintable', 'isspace', 'istitle', 'isupper', 'join', 'ljust', 'lower', 'lstrip', 'maketrans', 'partition', 'removeprefix', 'removesuffix', 'replace', 'rfind', 'rindex', 'rjust', 'rpartition', 'rsplit', 'rstrip', 'split', 'splitlines', 'startswith', 'strip', 'swapcase', 'title', 'translate', 'upper', 'zfill']\n"
     ]
    }
   ],
   "source": [
    "print( dir(name) )"
   ]
  },
  {
   "cell_type": "code",
   "execution_count": 53,
   "metadata": {},
   "outputs": [
    {
     "name": "stdout",
     "output_type": "stream",
     "text": [
      "Before :  mY nAme IS Ken OZio\n",
      "After  :  my name is ken ozio\n",
      "After  :  MY NAME IS KEN OZIO\n",
      "After  :  My name is ken ozio\n",
      "After  :  mY nAme IS Ken OZio\n",
      "After  :  False\n",
      "After  :  My NaME is kEN ozIO\n",
      "After  :  False\n",
      "After  :  False\n",
      "After  :  TTY nATTe IS Ken OZio\n",
      "After  :  2\n"
     ]
    }
   ],
   "source": [
    "print('Before : ', name )\n",
    "print('After  : ', name.lower() )\n",
    "print('After  : ', name.upper() )\n",
    "print('After  : ', name.capitalize() )\n",
    "print('After  : ', name.format() )\n",
    "print('After  : ', name.endswith('O') )\n",
    "print('After  : ', name.swapcase( ) )\n",
    "print('After  : ', name.startswith( 'Hello' ) )\n",
    "print('After  : ', name.isdigit( ) )\n",
    "print('After  : ', name.replace('m', 'TT' ) )\n",
    "print('After  : ', name.count( 'm' ) )\n",
    "\n",
    "\n",
    "\n"
   ]
  },
  {
   "cell_type": "code",
   "execution_count": 46,
   "metadata": {},
   "outputs": [
    {
     "name": "stdout",
     "output_type": "stream",
     "text": [
      "m\n"
     ]
    }
   ],
   "source": [
    "# name[1] = 'M'\n",
    "\n",
    "print(name[0])\n",
    "\n",
    "# print(help(str))"
   ]
  },
  {
   "cell_type": "code",
   "execution_count": 55,
   "metadata": {},
   "outputs": [
    {
     "name": "stdout",
     "output_type": "stream",
     "text": [
      "['__add__', '__class__', '__class_getitem__', '__contains__', '__delattr__', '__delitem__', '__dir__', '__doc__', '__eq__', '__format__', '__ge__', '__getattribute__', '__getitem__', '__gt__', '__hash__', '__iadd__', '__imul__', '__init__', '__init_subclass__', '__iter__', '__le__', '__len__', '__lt__', '__mul__', '__ne__', '__new__', '__reduce__', '__reduce_ex__', '__repr__', '__reversed__', '__rmul__', '__setattr__', '__setitem__', '__sizeof__', '__str__', '__subclasshook__', 'append', 'clear', 'copy', 'count', 'extend', 'index', 'insert', 'pop', 'remove', 'reverse', 'sort']\n"
     ]
    }
   ],
   "source": [
    "number = [10, 2]\n",
    "\n",
    "print(dir(number))"
   ]
  },
  {
   "cell_type": "code",
   "execution_count": 56,
   "metadata": {},
   "outputs": [
    {
     "name": "stdout",
     "output_type": "stream",
     "text": [
      "['__add__', '__class__', '__class_getitem__', '__contains__', '__delattr__', '__dir__', '__doc__', '__eq__', '__format__', '__ge__', '__getattribute__', '__getitem__', '__getnewargs__', '__gt__', '__hash__', '__init__', '__init_subclass__', '__iter__', '__le__', '__len__', '__lt__', '__mul__', '__ne__', '__new__', '__reduce__', '__reduce_ex__', '__repr__', '__rmul__', '__setattr__', '__sizeof__', '__str__', '__subclasshook__', 'count', 'index']\n"
     ]
    }
   ],
   "source": [
    "tuples = (10, 2)\n",
    "print(dir(tuples))"
   ]
  },
  {
   "cell_type": "code",
   "execution_count": 57,
   "metadata": {},
   "outputs": [
    {
     "name": "stdout",
     "output_type": "stream",
     "text": [
      "['__and__', '__class__', '__class_getitem__', '__contains__', '__delattr__', '__dir__', '__doc__', '__eq__', '__format__', '__ge__', '__getattribute__', '__gt__', '__hash__', '__iand__', '__init__', '__init_subclass__', '__ior__', '__isub__', '__iter__', '__ixor__', '__le__', '__len__', '__lt__', '__ne__', '__new__', '__or__', '__rand__', '__reduce__', '__reduce_ex__', '__repr__', '__ror__', '__rsub__', '__rxor__', '__setattr__', '__sizeof__', '__str__', '__sub__', '__subclasshook__', '__xor__', 'add', 'clear', 'copy', 'difference', 'difference_update', 'discard', 'intersection', 'intersection_update', 'isdisjoint', 'issubset', 'issuperset', 'pop', 'remove', 'symmetric_difference', 'symmetric_difference_update', 'union', 'update']\n"
     ]
    }
   ],
   "source": [
    "sets = {10, 2}\n",
    "print(dir(sets))"
   ]
  },
  {
   "cell_type": "code",
   "execution_count": 1,
   "metadata": {},
   "outputs": [
    {
     "name": "stdout",
     "output_type": "stream",
     "text": [
      "['__class__', '__class_getitem__', '__contains__', '__delattr__', '__delitem__', '__dir__', '__doc__', '__eq__', '__format__', '__ge__', '__getattribute__', '__getitem__', '__gt__', '__hash__', '__init__', '__init_subclass__', '__ior__', '__iter__', '__le__', '__len__', '__lt__', '__ne__', '__new__', '__or__', '__reduce__', '__reduce_ex__', '__repr__', '__reversed__', '__ror__', '__setattr__', '__setitem__', '__sizeof__', '__str__', '__subclasshook__', 'clear', 'copy', 'fromkeys', 'get', 'items', 'keys', 'pop', 'popitem', 'setdefault', 'update', 'values']\n"
     ]
    }
   ],
   "source": [
    "racedict = {'sex' : 'male', 'haircolour': 'black', 'race': ['latino', 'indian', 'african'] }\n",
    "print(dir(racedict))"
   ]
  },
  {
   "cell_type": "code",
   "execution_count": 9,
   "metadata": {},
   "outputs": [
    {
     "name": "stdout",
     "output_type": "stream",
     "text": [
      "Before :  {'sex': 'male', 'haircolour': 'black', 'race': ['latino', 'indian', 'african']}\n",
      "After  :  ['latino', 'indian', 'african']\n",
      "After  :  dict_keys(['sex', 'haircolour', 'race'])\n",
      "After  :  <built-in method items of dict object at 0x000002AE01415B80>\n"
     ]
    }
   ],
   "source": [
    "print('Before : ', racedict )\n",
    "print('After  : ', racedict.get('race') )\n",
    "print('After  : ', racedict.keys())\n",
    "print('After  : ', racedict.items) "
   ]
  },
  {
   "cell_type": "code",
   "execution_count": 16,
   "metadata": {},
   "outputs": [
    {
     "name": "stdout",
     "output_type": "stream",
     "text": [
      "guilty\n",
      "not guilty\n",
      "guilty\n",
      "not guilty\n"
     ]
    }
   ],
   "source": [
    "ver_dict= {'names': ['Amber', 'Johnny'], 'verdict': ['guilty', 'not guilty']}\n",
    "\n",
    "names = [1, 3]\n",
    "\n",
    "for x in ver_dict['names' ]:\n",
    "    for x in ver_dict['verdict']:\n",
    "\n",
    "        print(x)"
   ]
  },
  {
   "cell_type": "code",
   "execution_count": 13,
   "metadata": {},
   "outputs": [
    {
     "name": "stdout",
     "output_type": "stream",
     "text": [
      "\n",
      "\n",
      "3 location 3\n",
      "\n",
      "\n",
      "\n",
      "\n",
      "\n",
      "\n",
      "3 location 3\n",
      "\n",
      "\n",
      "3 location 3\n",
      "\n"
     ]
    }
   ],
   "source": [
    "ver_list =  ['Amber', 'names', 'Johnny', 'verdict', 'guilty', 'not guilty']\n",
    "num_list =  [1, 2, 3, 4, 5, 6, 7, 8, 9, 3, 6, 5, 3, 10]\n",
    "\n",
    "for i in num_list: \n",
    "    if i == 3:\n",
    "        print(i, 'location', num_list[i-1])\n",
    "    else: \n",
    "        print()\n",
    "\n",
    "\n",
    "\n"
   ]
  },
  {
   "cell_type": "code",
   "execution_count": null,
   "metadata": {},
   "outputs": [],
   "source": []
  },
  {
   "cell_type": "code",
   "execution_count": 28,
   "metadata": {},
   "outputs": [
    {
     "name": "stdout",
     "output_type": "stream",
     "text": [
      "5\n",
      "6\n",
      "7\n",
      "8\n",
      "9\n"
     ]
    }
   ],
   "source": [
    "counting = 1\n",
    "\n",
    "while counting < 20:\n",
    "    counting = counting + 1\n",
    "    print(counting)\n",
    "    \n",
    "     \n"
   ]
  },
  {
   "cell_type": "code",
   "execution_count": null,
   "metadata": {},
   "outputs": [],
   "source": [
    "# Multiples of two \n",
    "\n",
    "counting = 1\n",
    "while counting < 20:\n",
    "    print(counting + 1)\n",
    "    counting = counting + 2"
   ]
  },
  {
   "cell_type": "code",
   "execution_count": null,
   "metadata": {},
   "outputs": [],
   "source": [
    "counting = 1 \n",
    "while counting <= 20:\n",
    "    if counting % 2 == 0:\n",
    "        print(counting)\n",
    "    counting = counting + 1"
   ]
  },
  {
   "cell_type": "code",
   "execution_count": null,
   "metadata": {},
   "outputs": [],
   "source": [
    "for i in range(1, 21, 1): \n",
    "    if i % 2 == 0: \n",
    "        print(i)\n"
   ]
  },
  {
   "cell_type": "code",
   "execution_count": null,
   "metadata": {},
   "outputs": [],
   "source": [
    "for i in range(2, 21, 2):\n",
    "    print(i)"
   ]
  },
  {
   "cell_type": "code",
   "execution_count": 33,
   "metadata": {},
   "outputs": [
    {
     "name": "stdout",
     "output_type": "stream",
     "text": [
      "[3, 4, 5, 6, 7, 8]\n"
     ]
    }
   ],
   "source": [
    "num_list =  [1, 2, 3, 4, 5, 6, 7, 8, 9, 3, 6, 5, 3, 10]\n",
    "\n",
    "print(num_list[0:5]) \n"
   ]
  },
  {
   "cell_type": "code",
   "execution_count": 45,
   "metadata": {},
   "outputs": [],
   "source": [
    "# FUNCTIONS \n",
    "\n",
    "def add2numbers(number1, number2):\n",
    "    add_them = number1 + number2\n",
    "    print('sum of', number1, 'and', number2, 'is', add_them)\n",
    "    return \n",
    "\n"
   ]
  },
  {
   "cell_type": "code",
   "execution_count": 46,
   "metadata": {},
   "outputs": [
    {
     "name": "stdout",
     "output_type": "stream",
     "text": [
      "sum of 50 and 70 is 120\n"
     ]
    }
   ],
   "source": [
    "add2numbers(50, 70)"
   ]
  },
  {
   "cell_type": "code",
   "execution_count": 120,
   "metadata": {},
   "outputs": [
    {
     "name": "stdout",
     "output_type": "stream",
     "text": [
      "11 * 1 = 11\n",
      "11 * 2 = 22\n",
      "11 * 3 = 33\n",
      "11 * 4 = 44\n",
      "11 * 5 = 55\n",
      "11 * 6 = 66\n"
     ]
    }
   ],
   "source": [
    "def nummultiple(number1, number2): \n",
    "    for j in range(1, number2+1, 1):\n",
    "        multiple = number1 * j \n",
    "        print(number1, '*', j, '=', multiple )\n",
    "    return \n",
    "\n",
    "nummultiple(11, 6)\n"
   ]
  },
  {
   "cell_type": "code",
   "execution_count": 234,
   "metadata": {},
   "outputs": [
    {
     "name": "stdout",
     "output_type": "stream",
     "text": [
      "8 is divisible by 2\n"
     ]
    }
   ],
   "source": [
    "# homework 1\n",
    "def  evenfxn(numb):\n",
    "    if numb % 2 == 0:\n",
    "    \n",
    "        print(numb, 'is divisible by', '2')\n",
    "    else: \n",
    "        print(numb, 'is NOT divisible by', '2')\n",
    "        return\n",
    "\n",
    "evenfxn(8)"
   ]
  },
  {
   "cell_type": "code",
   "execution_count": 236,
   "metadata": {},
   "outputs": [
    {
     "name": "stdout",
     "output_type": "stream",
     "text": [
      "11 is NOT divisible by 5\n"
     ]
    }
   ],
   "source": [
    "# homework 2\n",
    "def divisiblepairs (numb1, numb2):\n",
    "    remainder = numb1 % numb2\n",
    "    if remainder == 0:\n",
    "        print(numb1, 'is', 'divisible by', numb2)   \n",
    "    else:\n",
    "      print(numb1, 'is', 'NOT divisible by', numb2)\n",
    "    return\n",
    "\n",
    "divisiblepairs(11,5)\n",
    "#other option: if numb3=numb1/numb2, then using isinstance(numb3,int) or type(numb3)==int was inconsistent"
   ]
  },
  {
   "cell_type": "code",
   "execution_count": 237,
   "metadata": {},
   "outputs": [
    {
     "name": "stdout",
     "output_type": "stream",
     "text": [
      "<class 'str'>\n",
      "['A', 'B', 'C', 'D']\n",
      "['D', 'C', 'B', 'A']\n",
      "DCBA\n",
      "['d', 'e', 'p', 'p']\n",
      "depp pped\n"
     ]
    }
   ],
   "source": [
    "# reversetext\n",
    "txt = 'ABCD'\n",
    "print(type(txt))\n",
    "listfromstring= list(txt)\n",
    "print(listfromstring)\n",
    "listfromstring.reverse()\n",
    "print(listfromstring)  \n",
    "newtxt=''.join( listfromstring)\n",
    "print(newtxt)\n",
    "\n",
    "#print(newtxt)\n",
    "#print(txt)\n",
    "\n",
    "#x= txt.list()\n",
    "\n",
    "#print(x)\n",
    "\n",
    "#homework 3\n",
    "def Reverser(txt):\n",
    "    #print(type(txt))\n",
    "     listfromstring= list(txt) # to make list from string\n",
    "     print(listfromstring)\n",
    "     listfromstring.reverse() #reverse list\n",
    "     newtxt = ''.join(listfromstring) #concatenate elements\n",
    "     print(txt,newtxt)\n",
    "     return\n",
    "\n",
    "Reverser('depp')"
   ]
  },
  {
   "cell_type": "markdown",
   "metadata": {},
   "source": []
  },
  {
   "cell_type": "code",
   "execution_count": null,
   "metadata": {},
   "outputs": [],
   "source": [
    "#homework  4 (for, while loops-inside-loop iterations, rows, columns (2D),)\n"
   ]
  },
  {
   "cell_type": "code",
   "execution_count": 408,
   "metadata": {},
   "outputs": [
    {
     "data": {
      "text/plain": [
       "('sr i ielmc', 'hucshs lia')"
      ]
     },
     "execution_count": 408,
     "metadata": {},
     "output_type": "execute_result"
    }
   ],
   "source": [
    "#ENCODE\n",
    "def encode(message): \n",
    "    message = message.lower()\n",
    "    first_string = ''\n",
    "    second_string = ''\n",
    "\n",
    "    length_of_message = len(message)\n",
    "\n",
    "    for i in range(length_of_message):\n",
    "        if i % 2 == 0:\n",
    "            first_string = first_string + message[i]\n",
    "            \n",
    "        else:\n",
    "            second_string = second_string + message[i]\n",
    "            \n",
    "\n",
    "    first_string  = first_string[::-1]\n",
    "    second_string = second_string[::-1] \n",
    "    \n",
    "    return  first_string, second_string\n",
    "encode('Camille is his crush')\n",
    "\n",
    "    "
   ]
  },
  {
   "cell_type": "code",
   "execution_count": 416,
   "metadata": {},
   "outputs": [
    {
     "data": {
      "text/plain": [
       "'Camille is his crush'"
      ]
     },
     "execution_count": 416,
     "metadata": {},
     "output_type": "execute_result"
    }
   ],
   "source": [
    "# DECODE\n",
    "def decode(message1, message2):\n",
    "   # new_string = ''\n",
    "    #first_string = message1\n",
    "    #second_string  = message2\n",
    "    #L1= len(first_string) \n",
    "    #L2= len(second_string)\n",
    "    #since a,b = 4,5  \n",
    "    #total_lenth = L1 + L2\n",
    "    first_string, second_string , new_string = message1[::-1], message2[::-1], '' \n",
    "    #first_string = message1[::-1]\n",
    "    #second_string= message2[::-1]\n",
    "    for i in range(len(first_string)): # go over \n",
    "        new_string = new_string + first_string[i] + second_string [i]\n",
    "    \n",
    "    return new_string.capitalize()\n",
    "decode ('sr i ielmc', 'hucshs lia')\n",
    "\n",
    "\n"
   ]
  },
  {
   "cell_type": "code",
   "execution_count": 33,
   "metadata": {},
   "outputs": [
    {
     "name": "stdout",
     "output_type": "stream",
     "text": [
      "* * * * * * * * * * \n",
      "*                 * \n",
      "*                 * \n",
      "*                 * \n",
      "*                 * \n",
      "*                 * \n",
      "*                 * \n",
      "*                 * \n",
      "*                 * \n",
      "* * * * * * * * * * \n"
     ]
    }
   ],
   "source": [
    "#DRAWING SQUARE\n",
    "def drawsquare(size, unit = 'km'):\n",
    "    for Lgth in range(size):\n",
    "        for brdth in range(size):\n",
    "            if Lgth == 0 or Lgth == size-1 or brdth == 0 or brdth == size-1:\n",
    "                print('* ', end='')\n",
    "            else:\n",
    "                print('  ', end= '')\n",
    "\n",
    "        print()\n",
    "    return\n",
    "drawsquare(10, 'cm')    "
   ]
  },
  {
   "cell_type": "code",
   "execution_count": null,
   "metadata": {},
   "outputs": [],
   "source": [
    "#DRAWING SQUARE 2\n",
    "def drawsquare(size,  unit):\n",
    "    for i in range(size):\n",
    "        if i == 0:\n",
    "            print('*'*size)\n",
    "        elif i > 0 and i < size - 1:\n",
    "            print('*', ' '*(size-2),'*')\n",
    "        else:\n",
    "            print('*'*size)\n",
    "    return\n",
    "drawsquare(10, 'cm')"
   ]
  },
  {
   "cell_type": "code",
   "execution_count": 1,
   "metadata": {},
   "outputs": [
    {
     "name": "stdout",
     "output_type": "stream",
     "text": [
      "Peter Zorve  -   27.02.1990\n"
     ]
    }
   ],
   "source": [
    "# homework DICTIONARY ACCESSING/ SORTING /SELECTING\n",
    "my_dictionary = {   'emails'    :  ['peter.zorve25@gmail.com', 'lara.funke125@gmail.com', 'faith.edem@yahoo.com', 'kenny.edem12@yahoo.com', 'kojo.sammy235@gmail.com', 'ama.lara16@yahoo.com', 'adeyele.kumi999999@yahoo.com', 'bismark.asamoah@yahoo.com', 'john.mireku@uef.fi', 'youth.agam@uef.fi', 'entry.james@uef.fi', 'kofi.antwi@uef.fi'], \n",
    "                    'id_number' :  ['27021990-THE', '28021990-THE', '28121990-THE', '28021990-THE', '28121990-THE', '28061990-THE', '27021980-THE', '28121990-TUE', '28021890-TAE', '28021990-THE', '28021990-THE', '28021990-THE' ]}\n",
    "\n",
    "\n",
    "emailList = my_dictionary['emails']\n",
    "idList = my_dictionary['id_number']\n",
    "#print(emailList+ idList)\n",
    "#print(len(emailList))\n",
    "\n",
    "def name(emailList):\n",
    "   for i in range(len(emailList)):\n",
    "      email_split= emailList[i].split('@')\n",
    "      email_name= email_split[0] # to split at only name; index [0]\n",
    "      name = email_name.split('.')\n",
    "      id_split= idList[i].split('-')\n",
    "      id_name= id_split[0]\n",
    "      id = id_name.split('.')\n",
    "      #print(name)\n",
    "   # print(type(name))\n",
    "   # print(id)\n",
    "      str_name = ' '.join(name)\n",
    "      str_id = ''.join(id)\n",
    "   # print(str_name)\n",
    "      #print(str_id)\n",
    "      str_name1 = ''\n",
    "      for i in range(len(str_name)):\n",
    "         if not str_name[i].isdigit(): #why is.alpha does NOT keep the whitespaces??\n",
    "            str_name1= str_name1 + str_name[i]\n",
    "            str_id1 = str_id[:2] + '.' + str_id[2:4] + '.' + str_id[4:]\n",
    "      print(str_name1.title(), ' -  ',str_id1)\n",
    "      return \n",
    "\n",
    "name(emailList)\n",
    "\n",
    "\n",
    "# ''''Represent as:\n",
    "# Peter Zorve  - 27.02.1990 \n",
    "# Lara Funke   - 28.02.1990\n"
   ]
  },
  {
   "cell_type": "code",
   "execution_count": 129,
   "metadata": {},
   "outputs": [
    {
     "name": "stdout",
     "output_type": "stream",
     "text": [
      "Peter Zorve\n"
     ]
    }
   ],
   "source": [
    "s= 'peter zorve'\n",
    "print(s.title())"
   ]
  },
  {
   "cell_type": "code",
   "execution_count": null,
   "metadata": {},
   "outputs": [],
   "source": [
    "#HOMEWORK6: USING STRINGS\n",
    "my_documents = 'i am a very very humble and nice guy'\n",
    "my_documents_squeeze = my_documents.replace(' ','')\n",
    "def count_characters(my_documents_squeeze):\n",
    "  for i in my_documents_squeeze:\n",
    "    print(i, '=', my_documents_squeeze.count(i))\n",
    "  return\n",
    "count_characters(my_documents_squeeze) \n"
   ]
  },
  {
   "cell_type": "code",
   "execution_count": 59,
   "metadata": {},
   "outputs": [
    {
     "name": "stdout",
     "output_type": "stream",
     "text": [
      "<class 'list'>\n",
      "<class 'list'>\n"
     ]
    }
   ],
   "source": [
    "#HOMEWORK6: USING DICTIONARY\n",
    "my_documents_dict = { 'my_documents1': ['i am a very very humble and nice guy'],\n",
    "                 'letters': ['i', 'a', 'm', 'v', 'e', 'r', 'y', 'h', 'u', 'b', 'l', 'n', 'd', 'c', 'g', 'y']}\n",
    "#print(my_documents_dict['letters'])\n",
    "# \n",
    "\n",
    "letters_list = my_documents_dict['letters']\n",
    "print(type(letters_list))\n",
    "my_documents_list= list(my_documents_dict['my_documents1'])\n",
    "print(type(my_documents_list))\n",
    "#for i in my_documents_list:\n",
    "#print(letters_list[i])\n"
   ]
  }
 ],
 "metadata": {
  "interpreter": {
   "hash": "d91c31fbed1a619547345a3507fec9881b02c227f34ae93225d00792bd5b4416"
  },
  "kernelspec": {
   "display_name": "Python 3.9.12 ('base')",
   "language": "python",
   "name": "python3"
  },
  "language_info": {
   "codemirror_mode": {
    "name": "ipython",
    "version": 3
   },
   "file_extension": ".py",
   "mimetype": "text/x-python",
   "name": "python",
   "nbconvert_exporter": "python",
   "pygments_lexer": "ipython3",
   "version": "3.9.12"
  },
  "orig_nbformat": 4
 },
 "nbformat": 4,
 "nbformat_minor": 2
}
