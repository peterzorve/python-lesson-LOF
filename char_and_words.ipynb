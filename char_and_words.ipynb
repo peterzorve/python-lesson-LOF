{
 "cells": [
  {
   "cell_type": "code",
   "execution_count": 1,
   "metadata": {},
   "outputs": [
    {
     "name": "stdout",
     "output_type": "stream",
     "text": [
      "10\n"
     ]
    }
   ],
   "source": [
    "def num(sentence, char):\n",
    "    \n",
    "    count= 0\n",
    "    for i in range(len(sentence)):\n",
    "      if sentence[i]== char:\n",
    "          count = count +1\n",
    "    print(count)\n",
    "        \n",
    "\n",
    "\n",
    "\n",
    "    return\n",
    "\n",
    "sentence= 'An atom is the smallest unit of ordinary matter that forms a chemical element.[1] Every solid, liquid, gas, and plasma is composed of neutral or ionized atoms'\n",
    "char='i'\n",
    "num(sentence, char)"
   ]
  },
  {
   "cell_type": "code",
   "execution_count": null,
   "metadata": {},
   "outputs": [],
   "source": []
  },
  {
   "cell_type": "code",
   "execution_count": 2,
   "metadata": {},
   "outputs": [
    {
     "name": "stdout",
     "output_type": "stream",
     "text": [
      "2\n"
     ]
    }
   ],
   "source": [
    "def num(sentence,word):\n",
    "    sent=sentence.split(' ')\n",
    "    count= 0\n",
    "    for i in range(len(sent)):\n",
    "      if sent[i]== word:\n",
    "          count = count +1\n",
    "    print(count)\n",
    "        \n",
    "\n",
    "\n",
    "\n",
    "    return\n",
    "\n",
    "sentence= 'An atom is the smallest unit of ordinary matter that forms a chemical element.[1] Every solid, liquid, gas, and plasma is composed of neutral or ionized atoms'\n",
    "word='is'\n",
    "num(sentence,word)"
   ]
  },
  {
   "cell_type": "code",
   "execution_count": 3,
   "metadata": {},
   "outputs": [
    {
     "name": "stdout",
     "output_type": "stream",
     "text": [
      "A : 1\n",
      "n : 7\n",
      "a : 13\n",
      "t : 11\n",
      "o : 11\n",
      "m : 9\n",
      "i : 10\n",
      "s : 10\n",
      "h : 3\n",
      "e : 11\n",
      "l : 8\n",
      "u : 3\n",
      "f : 3\n",
      "r : 7\n",
      "d : 6\n",
      "y : 2\n",
      "c : 3\n",
      ". : 1\n",
      "[ : 1\n",
      "1 : 1\n",
      "] : 1\n",
      "E : 1\n",
      "v : 1\n",
      ", : 3\n",
      "q : 1\n",
      "g : 1\n",
      "p : 2\n",
      "z : 1\n"
     ]
    }
   ],
   "source": [
    "def char_sent(sentence):\n",
    "    char = {}\n",
    "    sentences= sentence.replace(' ','')\n",
    "    for character in sentences:\n",
    "        if character in char:\n",
    "            char[character]+=1\n",
    "        else:\n",
    "            char[character]= 1\n",
    "    for letters in char.keys():\n",
    "            print(letters, ':', char[letters])\n",
    "        \n",
    "    return \n",
    "\n",
    "sentence= 'An atom is the smallest unit of ordinary matter that forms a chemical element.[1] Every solid, liquid, gas, and plasma is composed of neutral or ionized atoms'\n",
    "\n",
    "char_sent(sentence)"
   ]
  },
  {
   "cell_type": "code",
   "execution_count": 4,
   "metadata": {},
   "outputs": [
    {
     "name": "stdout",
     "output_type": "stream",
     "text": [
      "An : 1\n",
      "atom : 1\n",
      "is : 2\n",
      "the : 1\n",
      "smallest : 1\n",
      "unit : 1\n",
      "of : 2\n",
      "ordinary : 1\n",
      "matter : 1\n",
      "that : 1\n",
      "forms : 1\n",
      "a : 1\n",
      "chemical : 1\n",
      "element.[1] : 1\n",
      "Every : 1\n",
      "solid, : 1\n",
      "liquid, : 1\n",
      "gas, : 1\n",
      "and : 1\n",
      "plasma : 1\n",
      "composed : 1\n",
      "neutral : 1\n",
      "or : 1\n",
      "ionized : 1\n",
      "atoms : 1\n"
     ]
    }
   ],
   "source": [
    "def char_sent(sentence):\n",
    "    char = {}\n",
    "    sentences= sentence.split()\n",
    "    for character in sentences:\n",
    "        if character in char:\n",
    "            char[character]+=1\n",
    "        else:\n",
    "            char[character]= 1\n",
    "    for letters in char.keys():\n",
    "            print(letters, ':', char[letters])\n",
    "        \n",
    "    return \n",
    "\n",
    "sentence= 'An atom is the smallest unit of ordinary matter that forms a chemical element.[1] Every solid, liquid, gas, and plasma is composed of neutral or ionized atoms'\n",
    "\n",
    "char_sent(sentence)"
   ]
  }
 ],
 "metadata": {
  "kernelspec": {
   "display_name": "Python 3.8.13 ('first_environment')",
   "language": "python",
   "name": "python3"
  },
  "language_info": {
   "codemirror_mode": {
    "name": "ipython",
    "version": 3
   },
   "file_extension": ".py",
   "mimetype": "text/x-python",
   "name": "python",
   "nbconvert_exporter": "python",
   "pygments_lexer": "ipython3",
   "version": "3.8.13"
  },
  "orig_nbformat": 4,
  "vscode": {
   "interpreter": {
    "hash": "5ad1130831145bf566c6a4d946b4cec7d60994fa873e58bdf71a0987de436464"
   }
  }
 },
 "nbformat": 4,
 "nbformat_minor": 2
}
